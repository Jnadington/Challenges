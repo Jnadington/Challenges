{
 "cells": [
  {
   "cell_type": "code",
   "execution_count": 166,
   "id": "f65e0947-e720-49f3-a2b9-4f3ee786871b",
   "metadata": {},
   "outputs": [
    {
     "name": "stdout",
     "output_type": "stream",
     "text": [
      "There are 5 loans\n",
      "The total loan amount 2750\n",
      "The average loan amount is 550.0\n"
     ]
    }
   ],
   "source": [
    "\"\"\"Part 1: Automate the Calculations.\n",
    "\n",
    "Automate the calculations for the loan portfolio summaries.\n",
    "\"\"\"\n",
    "\n",
    "loan_costs = [500, 600, 200, 1000, 450]\n",
    "\n",
    "# How many loans are in the list?\n",
    "# @TODO: Use the `len` function to calculate the total number of loans in the list.\n",
    "number_of_loans = len(loan_costs)\n",
    "print(f\"There are {number_of_loans} loans\")\n",
    "\n",
    "# What is the total of all loans?\n",
    "# @TODO: Use the `sum` function to calculate the total of all loans in the list.\n",
    "total_loan_amount = sum(loan_costs)\n",
    "print(\"The total loan amount\", total_loan_amount)\n",
    "\n",
    "\n",
    "# What is the average loan amount from the list?\n",
    "# @TODO: Using the sum of all loans and the total number of loans, calculate the average loan price.\n",
    "average_loan_amount = total_loan_amount / number_of_loans\n",
    "print(\"The average loan amount is\", average_loan_amount)"
   ]
  },
  {
   "cell_type": "code",
   "execution_count": 174,
   "id": "3714d356-917d-4199-bad5-8836345fefbd",
   "metadata": {},
   "outputs": [
    {
     "name": "stdout",
     "output_type": "stream",
     "text": [
      "{'loan_price': 500, 'remaining_months': 9, 'repayment_interval': 'bullet', 'future_value': 1000}\n",
      "The fair value of this loan is 861.77\n",
      "The loan is worth at least the cost to buy it\n"
     ]
    }
   ],
   "source": [
    "\"\"\"Part 2: Analyze Loan Data.\n",
    "\n",
    "Analyze the loan to determine the investment evaluation.\n",
    "\n",
    "\"\"\"\n",
    "# Given the following loan data, you will need to calculate the present value for the loan\n",
    "loan = {\n",
    "    \"loan_price\": 500,\n",
    "    \"remaining_months\": 9,\n",
    "    \"repayment_interval\": \"bullet\",\n",
    "    \"future_value\": 1000,\n",
    "    }\n",
    "# @TODO: Use get() on the dictionary of additional information to extract the Future Value and Remaining Months on the loan.\n",
    "# Print each variable.\n",
    "print(loan)\n",
    "\n",
    "Future_Value = loan.get(\"future_value\")\n",
    "Remaining_Months = loan.get(\"remaining_months\")\n",
    "Loan_Price = loan.get(\"loan_price\")\n",
    "\n",
    "# @TODO: Use the formula for Present Value to calculate a \"fair value\" of the loan.\n",
    "# Use a minimum required return of 20% as the discount rate.\n",
    "#   You'll want to use the **monthly** version of the present value formula.\n",
    "#   HINT: Present Value = Future Value / (1 + Discount_Rate/12) ** remaining_months\n",
    "\n",
    "Present_Value = Future_Value / (1+.20/12) ** Remaining_Months\n",
    "\n",
    "print(\"The fair value of this loan is\", round(Present_Value, 2))\n",
    "\n",
    "# If Present Value represents what the loan is really worth, does it make sense to buy the loan at its cost?\n",
    "# @TODO: Write a conditional statement (an if-else statement) to decide if the present value represents the loan's fair value.\n",
    "#    If the present value of the loan is greater than or equal to the cost, then print a message that says the loan is worth at least the cost to buy it.\n",
    "#    Else, the present value of the loan is less than the loan cost, then print a message that says that the loan is too expensive and not worth the price.\n",
    "\n",
    "if Present_Value >= Loan_Price:\n",
    "    print(\"The loan is worth at least the cost to buy it\")\n",
    "else: \n",
    "    print(\"The loan is too expensive and not worth the price\")\n"
   ]
  },
  {
   "cell_type": "code",
   "execution_count": 56,
   "id": "d19371e5-683b-4d6f-a8ee-7e734245c41a",
   "metadata": {},
   "outputs": [
    {
     "name": "stdout",
     "output_type": "stream",
     "text": [
      "The present value of the loan is: $112.16\n"
     ]
    }
   ],
   "source": [
    "\"\"\"Part 3: Perform Financial Calculations.\n",
    "\n",
    "Perform financial calculations using functions.\n",
    "\n",
    "\"\"\"\n",
    "\n",
    "# Given the following loan data, you will need to calculate the present value for the loan\n",
    "new_loan = {\n",
    "    \"loan_price\": 800,\n",
    "    \"remaining_months\": 12,\n",
    "    \"repayment_interval\": \"bullet\",\n",
    "    \"future_value\": 1000,\n",
    "}\n",
    "\n",
    "# @TODO: Define a new function that will be used to calculate present value.\n",
    "#    This function should include parameters for `future_value`, `remaining_months`, and the `annual_discount_rate`\n",
    "#    The function should return the `present_value` for the loan.\n",
    "\n",
    "def cal_present_value(future_value, remaining_months, annual_discount_rate):\n",
    "    present_value = future_value / (1 + annual_discount_rate) ** remaining_months\n",
    "\n",
    "    return present_value\n",
    "\n",
    "\n",
    "# @TODO: Use the function to calculate the present value of the new loan given below.\n",
    "#    Use an `annual_discount_rate` of 0.2 for this new loan calculation.\n",
    "# YOUR CODE HERE!\n",
    "present_value = cal_present_value(1000, 12, 0.2)\n",
    "print(f\"The present value of the loan is: ${round(present_value,2)}\")\n"
   ]
  },
  {
   "cell_type": "code",
   "execution_count": 175,
   "id": "3c30b9c6-08ff-44af-8412-f0f3ebf98d2f",
   "metadata": {},
   "outputs": [
    {
     "name": "stdout",
     "output_type": "stream",
     "text": [
      "[500, 200]\n"
     ]
    }
   ],
   "source": [
    "\"\"\"Part 4: Conditionally filter lists of loans.\n",
    "\n",
    "In this section, you will use a loop to iterate through a series of loans and select only the inexpensive loans.\n",
    "\n",
    "\"\"\"\n",
    "\n",
    "loans = [\n",
    "    {\n",
    "        \"loan_price\": 700,\n",
    "        \"remaining_months\": 9,\n",
    "        \"repayment_interval\": \"monthly\",\n",
    "        \"future_value\": 1000,\n",
    "    },\n",
    "    {\n",
    "        \"loan_price\": 500,\n",
    "        \"remaining_months\": 13,\n",
    "        \"repayment_interval\": \"bullet\",\n",
    "        \"future_value\": 1000,\n",
    "    },\n",
    "    {\n",
    "        \"loan_price\": 200,\n",
    "        \"remaining_months\": 16,\n",
    "        \"repayment_interval\": \"bullet\",\n",
    "        \"future_value\": 1000,\n",
    "    },\n",
    "    {\n",
    "        \"loan_price\": 900,\n",
    "        \"remaining_months\": 16,\n",
    "        \"repayment_interval\": \"bullet\",\n",
    "        \"future_value\": 1000,\n",
    "    },\n",
    "]\n",
    "\n",
    "# @TODO: Create an empty list called `inexpensive_loans`\n",
    "inexpensive_loans = []\n",
    "\n",
    "# @TODO: Loop through all the loans and append any that cost $500 or less to the `inexpensive_loans` list\n",
    "for loan_data in loans:\n",
    "    \n",
    "    loan_cost = loan_data[\"loan_price\"]\n",
    "    \n",
    "    if loan_cost <= 500 :\n",
    "        #print(loan_cost)\n",
    "        inexpensive_loans.append(loan_cost)\n",
    "\n",
    "# @TODO: Print the `inexpensive_loans` list\n",
    "\n",
    "print(inexpensive_loans)\n"
   ]
  },
  {
   "cell_type": "code",
   "execution_count": 206,
   "id": "55cd583a-2472-4e95-a79c-5e61a6d8626d",
   "metadata": {},
   "outputs": [
    {
     "ename": "AttributeError",
     "evalue": "'int' object has no attribute 'values'",
     "output_type": "error",
     "traceback": [
      "\u001b[1;31m---------------------------------------------------------------------------\u001b[0m",
      "\u001b[1;31mAttributeError\u001b[0m                            Traceback (most recent call last)",
      "\u001b[1;32m~\\AppData\\Local\\Temp/ipykernel_18708/4195671467.py\u001b[0m in \u001b[0;36m<module>\u001b[1;34m\u001b[0m\n\u001b[0;32m     33\u001b[0m \u001b[1;33m\u001b[0m\u001b[0m\n\u001b[0;32m     34\u001b[0m     \u001b[1;32mfor\u001b[0m \u001b[0mloan\u001b[0m \u001b[1;32min\u001b[0m \u001b[0minexpensive_loans\u001b[0m\u001b[1;33m:\u001b[0m\u001b[1;33m\u001b[0m\u001b[1;33m\u001b[0m\u001b[0m\n\u001b[1;32m---> 35\u001b[1;33m         \u001b[0mcsvwriter\u001b[0m\u001b[1;33m.\u001b[0m\u001b[0mwriterow\u001b[0m\u001b[1;33m(\u001b[0m\u001b[0mloan\u001b[0m\u001b[1;33m.\u001b[0m\u001b[0mvalues\u001b[0m\u001b[1;33m(\u001b[0m\u001b[1;33m)\u001b[0m\u001b[1;33m)\u001b[0m\u001b[1;33m\u001b[0m\u001b[1;33m\u001b[0m\u001b[0m\n\u001b[0m\u001b[0;32m     36\u001b[0m         \u001b[0mprint\u001b[0m\u001b[1;33m(\u001b[0m\u001b[0mloan\u001b[0m\u001b[1;33m.\u001b[0m\u001b[0mvalues\u001b[0m\u001b[1;33m)\u001b[0m\u001b[1;33m\u001b[0m\u001b[1;33m\u001b[0m\u001b[0m\n",
      "\u001b[1;31mAttributeError\u001b[0m: 'int' object has no attribute 'values'"
     ]
    }
   ],
   "source": [
    "from asyncio import futures\n",
    "import csv\n",
    "from pathlib import Path\n",
    "\n",
    "from numpy import average, number\n",
    "\"\"\"Part 5: Save the results.\n",
    "\n",
    "Output this list of inexpensive loans to a csv file\n",
    "    1. Use `with open` to open a new CSV file.\n",
    "        a. Create a `csvwriter` using the `csv` library.\n",
    "        b. Use the new csvwriter to write the header variable as the first row.\n",
    "        c. Use a for loop to iterate through each loan in `inexpensive_loans`.\n",
    "            i. Use the csvwriter to write the `loan.values()` to a row in the CSV file.\n",
    "\n",
    "    Hint: Refer to the official documentation for the csv library.\n",
    "    https://docs.python.org/3/library/csv.html#writer-objects\n",
    "\n",
    "\"\"\"\n",
    "\n",
    "# Set the output header\n",
    "header = [\"loan_price\", \"remaining_months\", \"repayment_interval\", \"future_value\"]\n",
    "\n",
    "# Set the output file path\n",
    "csvpath = Path(\"inexpensive_loans.csv\")\n",
    "\n",
    "# @TODO: Use the csv library and `csv.writer` to write the header row\n",
    "# and each row of `loan.values()` from the `inexpensive_loans` list.\n",
    "# YOUR CODE HERE!\n",
    "with open(csvpath, \"w\") as csvfile:\n",
    "    \n",
    "    csvwriter = csv.writer(csvfile, delimiter=\",\")\n",
    "    csvwriter.writerow(header)\n",
    "    \n",
    "    for loan in inexpensive_loans:\n",
    "        csvwriter.writerow(loan.values())\n",
    "        print(loan.values)\n",
    "        \n",
    "        #could not figure out how to write the inexpensive loans into the csv file. \n",
    "        #have tutor session soon to figure out this problem. "
   ]
  },
  {
   "cell_type": "code",
   "execution_count": null,
   "id": "60e1c4d7-b108-4066-a069-e9b5b28470b4",
   "metadata": {},
   "outputs": [],
   "source": []
  },
  {
   "cell_type": "code",
   "execution_count": null,
   "id": "a1c83816-85e4-4d24-a77c-3c7c7d141416",
   "metadata": {},
   "outputs": [],
   "source": []
  }
 ],
 "metadata": {
  "kernelspec": {
   "display_name": "Python 3 (ipykernel)",
   "language": "python",
   "name": "python3"
  },
  "language_info": {
   "codemirror_mode": {
    "name": "ipython",
    "version": 3
   },
   "file_extension": ".py",
   "mimetype": "text/x-python",
   "name": "python",
   "nbconvert_exporter": "python",
   "pygments_lexer": "ipython3",
   "version": "3.9.7"
  }
 },
 "nbformat": 4,
 "nbformat_minor": 5
}
